{
 "cells": [
  {
   "cell_type": "code",
   "execution_count": 69,
   "metadata": {},
   "outputs": [
    {
     "name": "stdout",
     "output_type": "stream",
     "text": [
      "Empresa: Associação Brasileira de Incentivo à Ciência – ABRIC\n",
      "Premio: Prêmio ABRIC de excelência em iniciação científica\n",
      "Projeto: Acusticoco - painéis para condicionamento acústico composto por fibra de coco aplicado a salas de aula\n",
      "Cidade: MACEIÓ - AL \n"
     ]
    }
   ],
   "source": [
    "from tika import parser\n",
    "pdf = parser.from_file('pdfs/premiados_primeira_cerimonia_2019.pdf')\n",
    "import re\n",
    "# pega o texto do pdf\n",
    "texto = pdf['content']\n",
    "texto = texto.replace('\\n', ' ')\n",
    "texto = texto.replace('\\t', ' ')\n",
    "texto = \" \".join(texto.split())\n",
    "# padroniza as palavras chaves para splits\n",
    "texto = texto.replace('As contempladas','Os contemplados')\n",
    "texto = texto.replace('Os projetos', 'Os contemplados')\n",
    "texto = texto.replace('Os estudantes contemplados', 'Os contemplados')\n",
    "texto = texto.replace('[ PROJETO:', '[PROJETO:')\n",
    "# separa os premios por tipo\n",
    "texto = texto.split('[Prêmios FEBRACE]')[0]\n",
    "# separa por empresa\n",
    "texto = texto.split('[EMPRESA/INSTITUIÇÃO]')\n",
    "texto = texto[1:]\n",
    "empresa = texto[0].split('[PRÊMIO]')\n",
    "premio = empresa[1].split('Os contemplados')\n",
    "projeto = premio[1].split('[PROJETO:')[1].split(']')\n",
    "projeto[1] = projeto[1].replace('–', '-') # mais uma padronizacao\n",
    "separator = re.findall('- [A-Z][A-Z] ', projeto[1])\n",
    "cidade = projeto[1].split(separator[0])\n",
    "alunos = cidade[1].split(\" [Estudante] \")\n",
    "orientadores = alunos.pop()\n",
    "empresaE = empresa[0].strip()\n",
    "premioE = premio[0].strip()\n",
    "projetoE = projeto[0].split(']')[0].strip()\n",
    "cidade[0] = cidade[0].replace('Do', 'De') # sim cara, mais uma\n",
    "cidadeE = cidade[0].split(' De ')[1] + separator[0]\n",
    "\n",
    "print(\"Empresa: \" + empresaE)\n",
    "print(\"Premio: \" + premioE)\n",
    "print(\"Projeto: \" + projetoE)\n",
    "print(\"Cidade: \" + cidadeE)"
   ]
  }
 ],
 "metadata": {
  "kernelspec": {
   "display_name": "Python 3",
   "language": "python",
   "name": "python3"
  },
  "language_info": {
   "codemirror_mode": {
    "name": "ipython",
    "version": 3
   },
   "file_extension": ".py",
   "mimetype": "text/x-python",
   "name": "python",
   "nbconvert_exporter": "python",
   "pygments_lexer": "ipython3",
   "version": "3.8.5"
  }
 },
 "nbformat": 4,
 "nbformat_minor": 4
}
