{
 "cells": [
  {
   "cell_type": "code",
   "execution_count": 229,
   "metadata": {},
   "outputs": [],
   "source": [
    "#!pip install PyPDF4\n",
    "import PyPDF4\n",
    "import re\n",
    "\n",
    "# file = open('premiados_primeira_cerimonia_2018.pdf', 'rb')\n",
    "file = open('premiados_segunda_cerimonia_2018.pdf', 'rb')\n",
    "\n",
    "pdf = PyPDF4.PdfFileReader(file)\n",
    "pages = pdf.getNumPages()\n",
    "texto = \"\"\n",
    "\n",
    "for i in range(pages):\n",
    "    texto += pdf.getPage(i).extractText()\n",
    "\n",
    "texto = texto.replace('\\n', ' ')\n",
    "texto = texto.replace('\\t', ' ')\n",
    "texto = \" \".join(texto.split()).replace('Hartz RS', 'Hartz - RS').replace('As contempladas','Os contemplados').replace('Os projetos', 'Os contemplados').replace('As contemplada s', 'Os contemplados').replace('contemp lados', 'contemplados').replace('[EMPRESA/INSTITU IÇÃO]', '[EMPRESA/INSTITUIÇÃO]').replace('[ EMPRESA/INSTITUIÇÃO]', '[EMPRESA/INSTITUIÇÃO]').replace('[EMPRESA/INSTITUI ÇÃO]', '[EMPRESA/INSTITUIÇÃO]').replace('Os estudantes', 'Os contemplados')\n",
    "\n",
    "texto = texto.split('[Prêmios FEBRACE]')[0]\n",
    "texto = texto.split('[EMPRESA/INSTITUIÇÃO]')\n",
    "texto = texto[1:]\n",
    "\n",
    "\n",
    "empresa = texto[0].split('[PRÊMIO]')\n",
    "premio = empresa[1].split('Os contemplados')\n",
    "projeto = premio[1].split('[ PROJETO:')[1].split(']')\n",
    "\n",
    "separator = re.findall('- [A-Z][A-Z] ', projeto[1])\n",
    "cidade = projeto[1].split(separator[0])\n",
    "alunos = cidade[1].split(\" [Estudante] \")\n",
    "orientadores = alunos.pop()"
   ]
  },
  {
   "cell_type": "code",
   "execution_count": 230,
   "metadata": {},
   "outputs": [
    {
     "name": "stdout",
     "output_type": "stream",
     "text": [
      "Empresa: Centro de Coordenação de Estudos da Marinha em São Paulo\n",
      "Premio: Prêmio Marinha do Brasil\n",
      "Projeto: SFT E - sistema fracionado de tratamento de efluentes domésticos\n",
      "Cidade: CAMPO BOM - RS \n"
     ]
    }
   ],
   "source": [
    "empresaE = empresa[0].strip()\n",
    "premioE = premio[0].strip()\n",
    "projetoE = projeto[0].split(']')[0].strip()\n",
    "cidadeE = cidade[0].split(' De ')[1] + separator[0]\n",
    "\n",
    "print(\"Empresa: \" + empresaE)\n",
    "print(\"Premio: \" + premioE)\n",
    "print(\"Projeto: \" + projetoE)\n",
    "print(\"Cidade: \" + cidadeE)"
   ]
  }
 ],
 "metadata": {
  "kernelspec": {
   "display_name": "Python 3",
   "language": "python",
   "name": "python3"
  },
  "language_info": {
   "codemirror_mode": {
    "name": "ipython",
    "version": 3
   },
   "file_extension": ".py",
   "mimetype": "text/x-python",
   "name": "python",
   "nbconvert_exporter": "python",
   "pygments_lexer": "ipython3",
   "version": "3.8.5"
  }
 },
 "nbformat": 4,
 "nbformat_minor": 4
}
