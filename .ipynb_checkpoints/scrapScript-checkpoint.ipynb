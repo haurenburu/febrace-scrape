{
 "cells": [
  {
   "cell_type": "code",
   "execution_count": 9,
   "metadata": {},
   "outputs": [],
   "source": [
    "import pymongo\n",
    "import re\n",
    "from tika import parser\n",
    "\n",
    "def scrapPDF(file):\n",
    "    pdf = file\n",
    "    # pega o texto do pdf\n",
    "    texto = pdf['content']\n",
    "    texto = texto.replace('\\n', ' ')\n",
    "    texto = texto.replace('\\t', ' ')\n",
    "    texto = \" \".join(texto.split())\n",
    "    # padroniza as palavras chaves para splits\n",
    "    texto = texto.replace('As contempladas','Os contemplados')\n",
    "    texto = texto.replace('Os projetos', 'Os contemplados')\n",
    "    texto = texto.replace('Os estudantes contemplados', 'Os contemplados')\n",
    "    texto = texto.replace('[ PROJETO:', '[PROJETO:')\n",
    "    # separa os premios por tipo\n",
    "    texto = texto.split('[Prêmios FEBRACE]')[0]\n",
    "    texto = texto.split('PRÊMIOS DA ORGANIZAÇÃO DA FEBRACE NA VOTAÇÃO POPULAR')[0]\n",
    "    # separa por empresa\n",
    "    texto = texto.split('[EMPRESA/INSTITUIÇÃO]')\n",
    "    texto = texto[1:]\n",
    "\n",
    "    def scrapPage(page):\n",
    "        empresa = texto[page].split('[PRÊMIO]')\n",
    "        premio = empresa[1].split('Os contemplados')\n",
    "        projeto = premio[1].split('[PROJETO:')[1].split(']')\n",
    "        projetoJunto = \"]\".join(projeto)\n",
    "        projeto[1] = projeto[1].replace('–', '-') # mais uma padronizacao\n",
    "        separator = re.findall('- [A-Z][A-Z] ', projeto[1])\n",
    "        cidade = projetoJunto.split(separator[0])\n",
    "        estado = separator[0].split(' ')\n",
    "        alunos = cidade[1].split(\" [Estudante] \")\n",
    "        orientador = alunos.pop()\n",
    "        orientador = orientador.split('[Orientador(a)]')\n",
    "        coorientadores = orientador[1]\n",
    "        empresa_ = empresa[0].strip()\n",
    "        premio_ = premio[0].strip()\n",
    "        projeto_ = projeto[0].split(']')[0].strip()\n",
    "        cidade[0] = cidade[0].replace('Do', 'De') # sim cara, mais uma\n",
    "        cidade_ = cidade[0].split(' De ')[1].strip()\n",
    "        estado_ = estado[1].strip()\n",
    "        alunos_ = ', '.join(alunos)\n",
    "        orientador_ = orientador[0]\n",
    "        coorientador_ = orientador[1].split('[Coorientador(a)]')[0].strip()\n",
    "        \n",
    "        return { \"empresa\": empresa_, \"premio\": premio_, \"projeto\": projeto_, \"cidade\": cidade_, \"estado\": estado_, \"alunos\": alunos_, \"orientador\": orientador_, \"coorientador\": coorientador_ }\n",
    "    \n",
    "    client = pymongo.MongoClient(\"mongodb://localhost:27017/\")\n",
    "    db = client[\"datascience\"]\n",
    "    col = db[\"premiados\"]\n",
    "\n",
    "    for pg in range(len(texto)):\n",
    "        try:\n",
    "            col.insert_one(scrapPage(pg))\n",
    "        except Exception as e:\n",
    "            print(e)"
   ]
  },
  {
   "cell_type": "code",
   "execution_count": 11,
   "metadata": {},
   "outputs": [],
   "source": [
    "from os import walk\n",
    "\n",
    "_, _, filenames = next(walk('./pdfs'))\n",
    "\n",
    "for f in filenames:\n",
    "    scrapPDF(parser.from_file('pdfs/'+f))"
   ]
  }
 ],
 "metadata": {
  "kernelspec": {
   "display_name": "Python 3",
   "language": "python",
   "name": "python3"
  },
  "language_info": {
   "codemirror_mode": {
    "name": "ipython",
    "version": 3
   },
   "file_extension": ".py",
   "mimetype": "text/x-python",
   "name": "python",
   "nbconvert_exporter": "python",
   "pygments_lexer": "ipython3",
   "version": "3.8.5"
  }
 },
 "nbformat": 4,
 "nbformat_minor": 4
}
