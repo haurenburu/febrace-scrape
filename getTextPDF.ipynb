{
 "cells": [
  {
   "cell_type": "code",
   "execution_count": 100,
   "metadata": {},
   "outputs": [],
   "source": [
    "#!pip install PyPDF2\n",
    "#!pip install unidecode\n",
    "import PyPDF2\n",
    "\n",
    "file = open('premiados_primeira_cerimonia_2018.pdf', 'rb')\n",
    "\n",
    "pdf = PyPDF2.PdfFileReader(file)\n",
    "pages = pdf.getNumPages()\n",
    "texto = \"\"\n",
    "\n",
    "for i in range(pages):\n",
    "    texto += pdf.getPage(i).extractText()\n",
    "\n",
    "\n",
    "texto = texto.replace('\\n', ' ')\n",
    "texto = texto.replace('\\t', ' ')\n",
    "texto = \" \".join(texto.split())\n",
    "texto = texto.split('[EMPRESA/INSTITUIÇÃO]')\n",
    "texto = texto[1:]\n",
    "\n",
    "# print(texto[0])\n"
   ]
  },
  {
   "cell_type": "code",
   "execution_count": 104,
   "metadata": {},
   "outputs": [
    {
     "name": "stdout",
     "output_type": "stream",
     "text": [
      "Collecting pdftotext\n",
      "  Using cached pdftotext-2.1.5.tar.gz (98 kB)\n",
      "Building wheels for collected packages: pdftotext\n",
      "  Building wheel for pdftotext (setup.py): started\n",
      "  Building wheel for pdftotext (setup.py): finished with status 'error'\n",
      "  Running setup.py clean for pdftotext\n",
      "Failed to build pdftotext\n",
      "Installing collected packages: pdftotext\n",
      "    Running setup.py install for pdftotext: started\n",
      "    Running setup.py install for pdftotext: finished with status 'error'\n"
     ]
    },
    {
     "name": "stderr",
     "output_type": "stream",
     "text": [
      "  ERROR: Command errored out with exit status 1:\n",
      "   command: 'C:\\Users\\hauren\\anaconda3\\python.exe' -u -c 'import sys, setuptools, tokenize; sys.argv[0] = '\"'\"'C:\\\\Users\\\\hauren\\\\AppData\\\\Local\\\\Temp\\\\pip-install-cn6crs0_\\\\pdftotext\\\\setup.py'\"'\"'; __file__='\"'\"'C:\\\\Users\\\\hauren\\\\AppData\\\\Local\\\\Temp\\\\pip-install-cn6crs0_\\\\pdftotext\\\\setup.py'\"'\"';f=getattr(tokenize, '\"'\"'open'\"'\"', open)(__file__);code=f.read().replace('\"'\"'\\r\\n'\"'\"', '\"'\"'\\n'\"'\"');f.close();exec(compile(code, __file__, '\"'\"'exec'\"'\"'))' bdist_wheel -d 'C:\\Users\\hauren\\AppData\\Local\\Temp\\pip-wheel-t3p1fbsp'\n",
      "       cwd: C:\\Users\\hauren\\AppData\\Local\\Temp\\pip-install-cn6crs0_\\pdftotext\\\n",
      "  Complete output (7 lines):\n",
      "  WARNING: pkg-config not found--guessing at poppler version.\n",
      "           If the build fails, install pkg-config and try again.\n",
      "  running bdist_wheel\n",
      "  running build\n",
      "  running build_ext\n",
      "  building 'pdftotext' extension\n",
      "  error: Microsoft Visual C++ 14.0 or greater is required. Get it with \"Microsoft C++ Build Tools\": https://visualstudio.microsoft.com/visual-cpp-build-tools/\n",
      "  ----------------------------------------\n",
      "  ERROR: Failed building wheel for pdftotext\n",
      "    ERROR: Command errored out with exit status 1:\n",
      "     command: 'C:\\Users\\hauren\\anaconda3\\python.exe' -u -c 'import sys, setuptools, tokenize; sys.argv[0] = '\"'\"'C:\\\\Users\\\\hauren\\\\AppData\\\\Local\\\\Temp\\\\pip-install-cn6crs0_\\\\pdftotext\\\\setup.py'\"'\"'; __file__='\"'\"'C:\\\\Users\\\\hauren\\\\AppData\\\\Local\\\\Temp\\\\pip-install-cn6crs0_\\\\pdftotext\\\\setup.py'\"'\"';f=getattr(tokenize, '\"'\"'open'\"'\"', open)(__file__);code=f.read().replace('\"'\"'\\r\\n'\"'\"', '\"'\"'\\n'\"'\"');f.close();exec(compile(code, __file__, '\"'\"'exec'\"'\"'))' install --record 'C:\\Users\\hauren\\AppData\\Local\\Temp\\pip-record-66oh8l2v\\install-record.txt' --single-version-externally-managed --compile --install-headers 'C:\\Users\\hauren\\anaconda3\\Include\\pdftotext'\n",
      "         cwd: C:\\Users\\hauren\\AppData\\Local\\Temp\\pip-install-cn6crs0_\\pdftotext\\\n",
      "    Complete output (7 lines):\n",
      "    WARNING: pkg-config not found--guessing at poppler version.\n",
      "             If the build fails, install pkg-config and try again.\n",
      "    running install\n",
      "    running build\n",
      "    running build_ext\n",
      "    building 'pdftotext' extension\n",
      "    error: Microsoft Visual C++ 14.0 or greater is required. Get it with \"Microsoft C++ Build Tools\": https://visualstudio.microsoft.com/visual-cpp-build-tools/\n",
      "    ----------------------------------------\n",
      "ERROR: Command errored out with exit status 1: 'C:\\Users\\hauren\\anaconda3\\python.exe' -u -c 'import sys, setuptools, tokenize; sys.argv[0] = '\"'\"'C:\\\\Users\\\\hauren\\\\AppData\\\\Local\\\\Temp\\\\pip-install-cn6crs0_\\\\pdftotext\\\\setup.py'\"'\"'; __file__='\"'\"'C:\\\\Users\\\\hauren\\\\AppData\\\\Local\\\\Temp\\\\pip-install-cn6crs0_\\\\pdftotext\\\\setup.py'\"'\"';f=getattr(tokenize, '\"'\"'open'\"'\"', open)(__file__);code=f.read().replace('\"'\"'\\r\\n'\"'\"', '\"'\"'\\n'\"'\"');f.close();exec(compile(code, __file__, '\"'\"'exec'\"'\"'))' install --record 'C:\\Users\\hauren\\AppData\\Local\\Temp\\pip-record-66oh8l2v\\install-record.txt' --single-version-externally-managed --compile --install-headers 'C:\\Users\\hauren\\anaconda3\\Include\\pdftotext' Check the logs for full command output.\n"
     ]
    },
    {
     "ename": "ModuleNotFoundError",
     "evalue": "No module named 'pdftotext'",
     "output_type": "error",
     "traceback": [
      "\u001b[1;31m---------------------------------------------------------------------------\u001b[0m",
      "\u001b[1;31mModuleNotFoundError\u001b[0m                       Traceback (most recent call last)",
      "\u001b[1;32m<ipython-input-104-65a12d163d70>\u001b[0m in \u001b[0;36m<module>\u001b[1;34m\u001b[0m\n\u001b[0;32m      2\u001b[0m \u001b[0mget_ipython\u001b[0m\u001b[1;33m(\u001b[0m\u001b[1;33m)\u001b[0m\u001b[1;33m.\u001b[0m\u001b[0msystem\u001b[0m\u001b[1;33m(\u001b[0m\u001b[1;34m'pip install pdftotext'\u001b[0m\u001b[1;33m)\u001b[0m\u001b[1;33m\u001b[0m\u001b[1;33m\u001b[0m\u001b[0m\n\u001b[0;32m      3\u001b[0m \u001b[1;33m\u001b[0m\u001b[0m\n\u001b[1;32m----> 4\u001b[1;33m \u001b[1;32mimport\u001b[0m \u001b[0mpdftotext\u001b[0m\u001b[1;33m\u001b[0m\u001b[1;33m\u001b[0m\u001b[0m\n\u001b[0m\u001b[0;32m      5\u001b[0m \u001b[1;33m\u001b[0m\u001b[0m\n\u001b[0;32m      6\u001b[0m \u001b[1;32mwith\u001b[0m \u001b[0mopen\u001b[0m\u001b[1;33m(\u001b[0m\u001b[1;34m'premiados_primeira_cerimonia_2018.pdf'\u001b[0m\u001b[1;33m)\u001b[0m \u001b[1;32mas\u001b[0m \u001b[0mf\u001b[0m\u001b[1;33m:\u001b[0m\u001b[1;33m\u001b[0m\u001b[1;33m\u001b[0m\u001b[0m\n",
      "\u001b[1;31mModuleNotFoundError\u001b[0m: No module named 'pdftotext'"
     ]
    }
   ],
   "source": [
    "# !pip install pdftotext\n",
    "!pip install pdftotext\n",
    "\n",
    "import pdftotext\n",
    "\n",
    "with open('premiados_primeira_cerimonia_2018.pdf') as f:\n",
    "    pdf = pdftotext.PDF(f)\n",
    "    \n",
    "for page in pdf:\n",
    "    print(page)"
   ]
  }
 ],
 "metadata": {
  "kernelspec": {
   "display_name": "Python 3",
   "language": "python",
   "name": "python3"
  },
  "language_info": {
   "codemirror_mode": {
    "name": "ipython",
    "version": 3
   },
   "file_extension": ".py",
   "mimetype": "text/x-python",
   "name": "python",
   "nbconvert_exporter": "python",
   "pygments_lexer": "ipython3",
   "version": "3.8.5"
  }
 },
 "nbformat": 4,
 "nbformat_minor": 4
}
