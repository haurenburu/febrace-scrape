{
 "cells": [
  {
   "cell_type": "code",
   "execution_count": 6,
   "metadata": {},
   "outputs": [],
   "source": [
    "import pymongo\n",
    "import re\n",
    "from tika import parser\n",
    "\n",
    "pdf = parser.from_file('pdfs/premiados_bloco1_2020.pdf')\n",
    "# pega o texto do pdf\n",
    "texto = pdf['content']\n",
    "texto = texto.replace('\\n', ' ')\n",
    "texto = texto.replace('\\t', ' ')\n",
    "texto = \" \".join(texto.split())\n",
    "# padroniza as palavras chaves para splits\n",
    "texto = texto.replace('As contempladas','Os contemplados')\n",
    "texto = texto.replace('Os projetos', 'Os contemplados')\n",
    "texto = texto.replace('Os estudantes contemplados', 'Os contemplados')\n",
    "texto = texto.replace('[ PROJETO:', '[PROJETO:')\n",
    "# separa os premios por tipo\n",
    "texto = texto.split('[Prêmios FEBRACE]')[0]\n",
    "texto = texto.split('PRÊMIOS DA ORGANIZAÇÃO DA FEBRACE NA VOTAÇÃO POPULAR')[0]\n",
    "# separa por empresa\n",
    "texto = texto.split('[EMPRESA/INSTITUIÇÃO]')\n",
    "texto = texto[1:]\n",
    "\n",
    "def teste(page):\n",
    "    empresa = texto[page].split('[PRÊMIO]')\n",
    "    premio = empresa[1].split('Os contemplados')\n",
    "    projeto = premio[1].split('[PROJETO:')[1].split(']')\n",
    "    projetoJunto = \"]\".join(projeto)\n",
    "    projeto[1] = projeto[1].replace('–', '-') # mais uma padronizacao\n",
    "    separator = re.findall('- [A-Z][A-Z] ', projeto[1])\n",
    "    cidade = projetoJunto.split(separator[0])\n",
    "    estado = separator[0].split(' ')\n",
    "    \n",
    "    alunos = cidade[1].split(\" [Estudante] \")\n",
    "    orientador = alunos.pop()\n",
    "    orientador = orientador.split('[Orientador(a)]')\n",
    "    coorientadores = orientador[1]\n",
    "    \n",
    "    empresa_ = empresa[0].strip()\n",
    "    premio_ = premio[0].strip()\n",
    "    projeto_ = projeto[0].split(']')[0].strip()\n",
    "    cidade[0] = cidade[0].replace('Do', 'De') # sim cara, mais uma\n",
    "    cidade_ = cidade[0].split(' De ')[1].strip()\n",
    "    estado_ = estado[1].strip()\n",
    "\n",
    "    alunos_ = ', '.join(alunos)\n",
    "    orientador_ = orientador[0]\n",
    "    coorientador_ = orientador[1].split('[Coorientador(a)]')[0].strip()\n",
    "       \n",
    "    \n",
    "    return { \"empresa\": empresa_, \"premio\": premio_, \"projeto\": projeto_, \"cidade\": cidade_, \"estado\": estado_, \"alunos\": alunos_, \"orientador\": orientador_, \"coorientador\": coorientador_ }\n"
   ]
  },
  {
   "cell_type": "code",
   "execution_count": 38,
   "metadata": {},
   "outputs": [
    {
     "name": "stdout",
     "output_type": "stream",
     "text": [
      "list index out of range\n",
      "list index out of range\n",
      "list index out of range\n"
     ]
    }
   ],
   "source": [
    "client = pymongo.MongoClient(\"mongodb://localhost:27017/\")\n",
    "db = client[\"datascience\"]\n",
    "col = db[\"premiados\"]\n",
    "\n",
    "for i in range(len(texto)):\n",
    "    try:\n",
    "        col.insert_one(teste(i))\n",
    "    except Exception as e:\n",
    "        print(e)"
   ]
  },
  {
   "cell_type": "code",
   "execution_count": 52,
   "metadata": {},
   "outputs": [
    {
     "data": {
      "text/plain": [
       "1"
      ]
     },
     "execution_count": 52,
     "metadata": {},
     "output_type": "execute_result"
    }
   ],
   "source": [
    "df = pd.DataFrame(data = col.find(), columns=['empresa', 'premio', 'projeto', 'cidade', 'estado', 'alunos', 'orientador'])\n",
    "estadoCount = df.pivot_table(index=['cidade'], aggfunc='size')\n",
    "estadoCount['ARAGUAINA']"
   ]
  }
 ],
 "metadata": {
  "kernelspec": {
   "display_name": "Python 3",
   "language": "python",
   "name": "python3"
  },
  "language_info": {
   "codemirror_mode": {
    "name": "ipython",
    "version": 3
   },
   "file_extension": ".py",
   "mimetype": "text/x-python",
   "name": "python",
   "nbconvert_exporter": "python",
   "pygments_lexer": "ipython3",
   "version": "3.8.5"
  }
 },
 "nbformat": 4,
 "nbformat_minor": 4
}
