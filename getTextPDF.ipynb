{
 "cells": [
  {
   "cell_type": "code",
   "execution_count": 149,
   "metadata": {},
   "outputs": [
    {
     "name": "stdout",
     "output_type": "stream",
     "text": [
      "Empresa: American Psychological Association\n",
      "Premio: Outstanding for Behavioral Sciences\n",
      "Projeto: Gra videz e maternidade na adolescência: mobilidade social e sociabilidade local na periferia de São Paulo\n",
      "Cidade: SÃ O PAULO - SP \n"
     ]
    }
   ],
   "source": [
    "#!pip install PyPDF2\n",
    "import PyPDF2\n",
    "import re\n",
    "\n",
    "file = open('premiados_primeira_cerimonia_2018.pdf', 'rb')\n",
    "\n",
    "pdf = PyPDF2.PdfFileReader(file)\n",
    "pages = pdf.getNumPages()\n",
    "texto = \"\"\n",
    "\n",
    "for i in range(pages):\n",
    "    texto += pdf.getPage(i).extractText()\n",
    "\n",
    "texto = texto.replace('\\n', ' ')\n",
    "texto = texto.replace('\\t', ' ')\n",
    "texto = \" \".join(texto.split())\n",
    "texto = texto.split('[EMPRESA/INSTITUIÇÃO]')\n",
    "texto = texto[1:]\n",
    "\n",
    "empresa = texto[0].split('[PRÊMIO]')\n",
    "premio = empresa[1].split('Os contemplados')\n",
    "\n",
    "# algumas emrpesas possuem mais de 1 projeto fazer a verificacao a partir daqui (ultilizando o resto do premio :])\n",
    "\n",
    "projeto = premio[1].split('[ PROJETO:')[1].split(']')\n",
    "\n",
    "separator = re.findall('- [A-Z][A-Z] ', projeto[1])\n",
    "cidade = projeto[1].split(separator[0])\n",
    "alunos = cidade[1].split(\" [Estudante] \")\n",
    "orientadores = alunos.pop()\n",
    "\n",
    "\n",
    "empresaE = empresa[0].strip()\n",
    "premioE = premio[0].strip()\n",
    "projetoE = projeto[0].split(']')[0].strip()\n",
    "cidadeE = cidade[0].split(' De ')[1] + separator[0]\n",
    "\n",
    "print(\"Empresa: \" + empresaE)\n",
    "print(\"Premio: \" + premioE)\n",
    "print(\"Projeto: \" + projetoE)\n",
    "print(\"Cidade: \" + cidadeE)\n"
   ]
  },
  {
   "cell_type": "code",
   "execution_count": null,
   "metadata": {},
   "outputs": [],
   "source": []
  }
 ],
 "metadata": {
  "kernelspec": {
   "display_name": "Python 3",
   "language": "python",
   "name": "python3"
  },
  "language_info": {
   "codemirror_mode": {
    "name": "ipython",
    "version": 3
   },
   "file_extension": ".py",
   "mimetype": "text/x-python",
   "name": "python",
   "nbconvert_exporter": "python",
   "pygments_lexer": "ipython3",
   "version": "3.8.5"
  }
 },
 "nbformat": 4,
 "nbformat_minor": 4
}
